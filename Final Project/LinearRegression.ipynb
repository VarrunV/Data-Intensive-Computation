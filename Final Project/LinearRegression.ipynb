{
 "cells": [
  {
   "cell_type": "code",
   "execution_count": 1,
   "metadata": {},
   "outputs": [],
   "source": [
    "import org.apache.spark.sql.{DataFrame, Dataset, Row, SparkSession}\n",
    "import org.apache.spark.sql.functions._\n",
    "import scala.util.matching\n",
    "import org.apache.spark.rdd.RDD\n",
    "import org.apache.spark.sql.types._\n",
    "\n",
    "import org.apache.spark.ml.evaluation.RegressionEvaluator\n",
    "import org.apache.spark.ml.regression.LinearRegression\n",
    "import org.apache.spark.ml.tuning.{ParamGridBuilder, TrainValidationSplit}\n",
    "import org.apache.spark.ml.feature.VectorAssembler\n",
    "import org.apache.spark.mllib.linalg.Vectors\n",
    "import org.apache.spark.ml.feature.Normalizer"
   ]
  },
  {
   "cell_type": "code",
   "execution_count": 2,
   "metadata": {},
   "outputs": [
    {
     "data": {
      "text/plain": [
       "country = US\n",
       "usDF = [video_id: string, trending_date: string ... 14 more fields]\n"
      ]
     },
     "metadata": {},
     "output_type": "display_data"
    },
    {
     "data": {
      "text/plain": [
       "[video_id: string, trending_date: string ... 14 more fields]"
      ]
     },
     "execution_count": 2,
     "metadata": {},
     "output_type": "execute_result"
    }
   ],
   "source": [
    "val country = \"US\"\n",
    "val usDF = spark.read.format(\"csv\").option(\"header\", \"true\")\n",
    "                .load(\"data/\" + country + \"videos_new.csv\")"
   ]
  },
  {
   "cell_type": "code",
   "execution_count": 3,
   "metadata": {},
   "outputs": [
    {
     "name": "stdout",
     "output_type": "stream",
     "text": [
      "root\n",
      " |-- video_id: string (nullable = true)\n",
      " |-- trending_date: string (nullable = true)\n",
      " |-- title: string (nullable = true)\n",
      " |-- channel_title: string (nullable = true)\n",
      " |-- category_id: string (nullable = true)\n",
      " |-- publish_time: string (nullable = true)\n",
      " |-- tags: string (nullable = true)\n",
      " |-- views: string (nullable = true)\n",
      " |-- likes: string (nullable = true)\n",
      " |-- dislikes: string (nullable = true)\n",
      " |-- comment_count: string (nullable = true)\n",
      " |-- thumbnail_link: string (nullable = true)\n",
      " |-- comments_disabled: string (nullable = true)\n",
      " |-- ratings_disabled: string (nullable = true)\n",
      " |-- video_error_or_removed: string (nullable = true)\n",
      " |-- description: string (nullable = true)\n",
      "\n"
     ]
    }
   ],
   "source": [
    "usDF.printSchema()"
   ]
  },
  {
   "cell_type": "code",
   "execution_count": 4,
   "metadata": {},
   "outputs": [
    {
     "name": "stdout",
     "output_type": "stream",
     "text": [
      "root\n",
      " |-- category_id: string (nullable = true)\n",
      " |-- comment_count: string (nullable = true)\n",
      " |-- dislikes: string (nullable = true)\n",
      " |-- views: string (nullable = true)\n",
      " |-- likes: string (nullable = true)\n",
      "\n",
      "+-----------+-------------+--------+-------+------+\n",
      "|category_id|comment_count|dislikes|  views| likes|\n",
      "+-----------+-------------+--------+-------+------+\n",
      "|       22.0|        15954|    2966| 748374| 57527|\n",
      "|       24.0|        12703|    6146|2418783| 97185|\n",
      "|       23.0|         8181|    5339|3191434|146033|\n",
      "|       24.0|         2146|     666| 343168| 10172|\n",
      "|       24.0|        17518|    1989|2095731|132235|\n",
      "+-----------+-------------+--------+-------+------+\n",
      "only showing top 5 rows\n",
      "\n"
     ]
    },
    {
     "data": {
      "text/plain": [
       "usDF1 = [category_id: string, comment_count: string ... 3 more fields]\n",
       "usDF2 = [category_id: double, comment_count: int ... 3 more fields]\n"
      ]
     },
     "metadata": {},
     "output_type": "display_data"
    },
    {
     "data": {
      "text/plain": [
       "[category_id: double, comment_count: int ... 3 more fields]"
      ]
     },
     "execution_count": 4,
     "metadata": {},
     "output_type": "execute_result"
    }
   ],
   "source": [
    "val usDF1 = usDF.select($\"category_id\"\n",
    "                        ,$\"comment_count\",$\"dislikes\",$\"views\",$\"likes\")\n",
    "                        .na.drop()\n",
    "\n",
    "\n",
    "usDF1.printSchema()\n",
    "\n",
    "val usDF2 = usDF1.withColumn(\"category_id\",col(\"category_id\").cast(DoubleType))\n",
    "    .withColumn(\"comment_count\",col(\"comment_count\").cast(IntegerType))\n",
    "    .withColumn(\"dislikes\",col(\"dislikes\").cast(IntegerType))\n",
    "    .withColumn(\"views\",col(\"views\").cast(IntegerType))\n",
    "    .withColumn(\"likes\",col(\"likes\").cast(IntegerType))\n",
    "usDF2.show(5)"
   ]
  },
  {
   "cell_type": "code",
   "execution_count": 5,
   "metadata": {},
   "outputs": [
    {
     "data": {
      "text/plain": [
       "numNan = 7188\n"
      ]
     },
     "metadata": {},
     "output_type": "display_data"
    },
    {
     "data": {
      "text/plain": [
       "7188"
      ]
     },
     "execution_count": 5,
     "metadata": {},
     "output_type": "execute_result"
    }
   ],
   "source": [
    "val numNan = usDF.count - usDF1.count"
   ]
  },
  {
   "cell_type": "code",
   "execution_count": 6,
   "metadata": {},
   "outputs": [
    {
     "name": "stdout",
     "output_type": "stream",
     "text": [
      "root\n",
      " |-- category_id: double (nullable = true)\n",
      " |-- comment_count: integer (nullable = true)\n",
      " |-- dislikes: integer (nullable = true)\n",
      " |-- views: integer (nullable = true)\n",
      " |-- likes: integer (nullable = true)\n",
      "\n"
     ]
    },
    {
     "data": {
      "text/plain": [
       "assembler = [category_id: double, comment_count: int ... 4 more fields]\n"
      ]
     },
     "metadata": {},
     "output_type": "display_data"
    },
    {
     "data": {
      "text/plain": [
       "[category_id: double, comment_count: int ... 4 more fields]"
      ]
     },
     "execution_count": 6,
     "metadata": {},
     "output_type": "execute_result"
    }
   ],
   "source": [
    "val assembler = new VectorAssembler()\n",
    "                .setInputCols(Array(\"comment_count\",\n",
    "                                    \"dislikes\",\"views\",\n",
    "                                    \"category_id\"))\n",
    "                .setOutputCol(\"features\")\n",
    "                .transform(usDF2)\n",
    "usDF2.printSchema()"
   ]
  },
  {
   "cell_type": "code",
   "execution_count": 7,
   "metadata": {
    "scrolled": true
   },
   "outputs": [
    {
     "name": "stdout",
     "output_type": "stream",
     "text": [
      "+------+--------------------+\n",
      "| likes|            features|\n",
      "+------+--------------------+\n",
      "| 57527|[15954.0,2966.0,7...|\n",
      "| 97185|[12703.0,6146.0,2...|\n",
      "|146033|[8181.0,5339.0,31...|\n",
      "| 10172|[2146.0,666.0,343...|\n",
      "|132235|[17518.0,1989.0,2...|\n",
      "+------+--------------------+\n",
      "only showing top 5 rows\n",
      "\n"
     ]
    }
   ],
   "source": [
    "assembler.select($\"likes\",$\"features\").show(5)"
   ]
  },
  {
   "cell_type": "code",
   "execution_count": 8,
   "metadata": {},
   "outputs": [
    {
     "name": "stdout",
     "output_type": "stream",
     "text": [
      "+-----------+-------------+--------+-------+------+--------------------+--------------------+\n",
      "|category_id|comment_count|dislikes|  views| likes|            features|        normfeatures|\n",
      "+-----------+-------------+--------+-------+------+--------------------+--------------------+\n",
      "|       22.0|        15954|    2966| 748374| 57527|[15954.0,2966.0,7...|[0.02131320801961...|\n",
      "|       24.0|        12703|    6146|2418783| 97185|[12703.0,6146.0,2...|[0.00525172527371...|\n",
      "|       23.0|         8181|    5339|3191434|146033|[8181.0,5339.0,31...|[0.00256341245751...|\n",
      "|       24.0|         2146|     666| 343168| 10172|[2146.0,666.0,343...|[0.00625336276642...|\n",
      "|       24.0|        17518|    1989|2095731|132235|[17518.0,1989.0,2...|[0.00835860143342...|\n",
      "+-----------+-------------+--------+-------+------+--------------------+--------------------+\n",
      "only showing top 5 rows\n",
      "\n",
      "root\n",
      " |-- category_id: double (nullable = true)\n",
      " |-- comment_count: integer (nullable = true)\n",
      " |-- dislikes: integer (nullable = true)\n",
      " |-- views: integer (nullable = true)\n",
      " |-- likes: integer (nullable = true)\n",
      " |-- features: vector (nullable = true)\n",
      " |-- normfeatures: vector (nullable = true)\n",
      "\n"
     ]
    },
    {
     "data": {
      "text/plain": [
       "normalizer = [category_id: double, comment_count: int ... 5 more fields]\n"
      ]
     },
     "metadata": {},
     "output_type": "display_data"
    },
    {
     "data": {
      "text/plain": [
       "[category_id: double, comment_count: int ... 5 more fields]"
      ]
     },
     "execution_count": 8,
     "metadata": {},
     "output_type": "execute_result"
    }
   ],
   "source": [
    "val normalizer= new Normalizer()\n",
    "                .setInputCol(\"features\")\n",
    "                .setOutputCol(\"normfeatures\")\n",
    "                .setP(2.0)\n",
    "                .transform(assembler)\n",
    "normalizer.show(5)\n",
    "normalizer.printSchema()"
   ]
  },
  {
   "cell_type": "code",
   "execution_count": 9,
   "metadata": {},
   "outputs": [
    {
     "data": {
      "text/plain": [
       "trainingData = [category_id: double, comment_count: int ... 5 more fields]\n",
       "testData = [category_id: double, comment_count: int ... 5 more fields]\n"
      ]
     },
     "metadata": {},
     "output_type": "display_data"
    },
    {
     "data": {
      "text/plain": [
       "[category_id: double, comment_count: int ... 5 more fields]"
      ]
     },
     "execution_count": 9,
     "metadata": {},
     "output_type": "execute_result"
    }
   ],
   "source": [
    "val Array(trainingData,testData)= normalizer.randomSplit(Array(0.7,0.3))"
   ]
  },
  {
   "cell_type": "code",
   "execution_count": 10,
   "metadata": {},
   "outputs": [
    {
     "data": {
      "text/plain": [
       "lr = linReg_df99f1fb5096\n"
      ]
     },
     "metadata": {},
     "output_type": "display_data"
    },
    {
     "data": {
      "text/plain": [
       "linReg_df99f1fb5096"
      ]
     },
     "execution_count": 10,
     "metadata": {},
     "output_type": "execute_result"
    }
   ],
   "source": [
    "val lr = new LinearRegression()\n",
    "            .setLabelCol(\"likes\")\n",
    "            .setFeaturesCol(\"normfeatures\")\n",
    "            .setMaxIter(100)\n",
    "            .setRegParam(0.3)\n",
    "            .setElasticNetParam(0.8)"
   ]
  },
  {
   "cell_type": "code",
   "execution_count": 11,
   "metadata": {},
   "outputs": [
    {
     "data": {
      "text/plain": [
       "lrModel = linReg_df99f1fb5096\n"
      ]
     },
     "metadata": {},
     "output_type": "display_data"
    },
    {
     "data": {
      "text/plain": [
       "linReg_df99f1fb5096"
      ]
     },
     "execution_count": 11,
     "metadata": {},
     "output_type": "execute_result"
    }
   ],
   "source": [
    "val lrModel = lr.fit(trainingData)"
   ]
  },
  {
   "cell_type": "code",
   "execution_count": 12,
   "metadata": {},
   "outputs": [
    {
     "name": "stdout",
     "output_type": "stream",
     "text": [
      "+-----+------------------+\n",
      "|likes|        prediction|\n",
      "+-----+------------------+\n",
      "|    1| 51837.42297407612|\n",
      "|    0|60323.581137150526|\n",
      "|    0|60688.804457280785|\n",
      "|    0| 60840.89080161974|\n",
      "|  137| 60367.33139920235|\n",
      "|87892| 61068.33094708249|\n",
      "| 6697|61788.914836771786|\n",
      "| 6801| 61800.41177633777|\n",
      "| 6797|61799.544810611755|\n",
      "| 6874| 61806.70893822983|\n",
      "|    0| 58158.96904331818|\n",
      "|   30| 60655.00321532413|\n",
      "|    9| 60452.72181766853|\n",
      "|    9|60480.230733368546|\n",
      "|  144|   60924.186317496|\n",
      "|   49| 60932.83336414397|\n",
      "|   19| 61510.39407872036|\n",
      "|   38| 60960.37760228664|\n",
      "|   30|  61495.9846814014|\n",
      "|   55| 61699.45849228278|\n",
      "+-----+------------------+\n",
      "only showing top 20 rows\n",
      "\n"
     ]
    },
    {
     "data": {
      "text/plain": [
       "resultDF = [likes: int, prediction: double]\n"
      ]
     },
     "metadata": {},
     "output_type": "display_data"
    },
    {
     "data": {
      "text/plain": [
       "[likes: int, prediction: double]"
      ]
     },
     "execution_count": 12,
     "metadata": {},
     "output_type": "execute_result"
    }
   ],
   "source": [
    "val resultDF = lrModel.transform(testData).select(\"likes\", \"prediction\")\n",
    "resultDF.show(20)"
   ]
  },
  {
   "cell_type": "code",
   "execution_count": 13,
   "metadata": {},
   "outputs": [
    {
     "name": "stdout",
     "output_type": "stream",
     "text": [
      "numIterations: 12\n",
      "objectiveHistory: [0.5,0.4969434450076498,0.49618552892904,0.4959383063420207,0.49571328696247896,0.49567620592694717,0.495621326877272,0.49560247841825567,0.4956023176438449,0.495602315636638,0.4956023155696053,0.4956023155659021]\n",
      "+-------------------+\n",
      "|          residuals|\n",
      "+-------------------+\n",
      "| -51014.02485281974|\n",
      "|-60671.085639152676|\n",
      "|-60685.679068569094|\n",
      "| -60691.23993974924|\n",
      "|-60692.955199711025|\n",
      "| -60694.05234403163|\n",
      "|-60831.681847169995|\n",
      "|-60835.429747618735|\n",
      "|-60838.604893028736|\n",
      "|-60600.101575389504|\n",
      "| -60600.79913348332|\n",
      "|-60244.194695126265|\n",
      "|  -60689.0846905224|\n",
      "| -60841.47247865051|\n",
      "| -60835.28746089712|\n",
      "| -60828.41282691434|\n",
      "| 30538.694068849087|\n",
      "| 33936.689735747874|\n",
      "| -55237.61818137765|\n",
      "|-55009.166823633015|\n",
      "+-------------------+\n",
      "only showing top 20 rows\n",
      "\n",
      "RMSE: 226901.0115856178\n",
      "r2: 0.008795770530907299\n",
      "+-------+-----------------+------------------+\n",
      "|summary|            likes|        prediction|\n",
      "+-------+-----------------+------------------+\n",
      "|  count|            12461|             12461|\n",
      "|   mean|74642.01364256481| 73963.61895382308|\n",
      "| stddev|231109.4905380845| 20284.59403396384|\n",
      "|    min|                0|-394859.3773358725|\n",
      "|    max|          5386959|258266.55419043824|\n",
      "+-------+-----------------+------------------+\n",
      "\n"
     ]
    },
    {
     "data": {
      "text/plain": [
       "trainingSummary = org.apache.spark.ml.regression.LinearRegressionTrainingSummary@962473e\n"
      ]
     },
     "metadata": {},
     "output_type": "display_data"
    },
    {
     "data": {
      "text/plain": [
       "org.apache.spark.ml.regression.LinearRegressionTrainingSummary@962473e"
      ]
     },
     "execution_count": 13,
     "metadata": {},
     "output_type": "execute_result"
    }
   ],
   "source": [
    "val trainingSummary = lrModel.summary\n",
    "println(s\"numIterations: ${trainingSummary.totalIterations}\")\n",
    "println(s\"objectiveHistory: [${trainingSummary.objectiveHistory.mkString(\",\")}]\")\n",
    "trainingSummary.residuals.show()\n",
    "println(s\"RMSE: ${trainingSummary.rootMeanSquaredError}\")\n",
    "println(s\"r2: ${trainingSummary.r2}\")\n",
    "resultDF.describe().show"
   ]
  },
  {
   "cell_type": "code",
   "execution_count": null,
   "metadata": {},
   "outputs": [],
   "source": []
  }
 ],
 "metadata": {
  "kernelspec": {
   "display_name": "Apache Toree - Scala",
   "language": "scala",
   "name": "apache_toree_scala"
  },
  "language_info": {
   "codemirror_mode": "text/x-scala",
   "file_extension": ".scala",
   "mimetype": "text/x-scala",
   "name": "scala",
   "pygments_lexer": "scala",
   "version": "2.11.12"
  }
 },
 "nbformat": 4,
 "nbformat_minor": 2
}
