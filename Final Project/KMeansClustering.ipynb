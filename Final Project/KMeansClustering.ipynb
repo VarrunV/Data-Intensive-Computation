{
 "cells": [
  {
   "cell_type": "code",
   "execution_count": 38,
   "metadata": {},
   "outputs": [
    {
     "ename": "Unknown Error",
     "evalue": "<console>:58: error: not found: value scalax\n       import scalax.chart.api._\n              ^\n",
     "output_type": "error",
     "traceback": []
    }
   ],
   "source": [
    "import org.apache.spark.sql.{DataFrame, Dataset, Row, SparkSession}\n",
    "import org.apache.spark.sql.functions._\n",
    "import scala.util.matching\n",
    "import org.apache.spark.rdd.RDD\n",
    "import org.apache.spark.sql.types._\n",
    "\n",
    "import org.apache.spark.SparkContext\n",
    "import org.apache.spark.SparkContext._\n",
    "import org.apache.spark.SparkConf\n",
    "import org.apache.spark.mllib.linalg.Vectors\n",
    "import org.apache.spark.ml.clustering.KMeans\n",
    "import org.apache.spark.ml.feature.VectorAssembler\n",
    "import org.apache.spark.ml.feature.Normalizer\n",
    "import org.apache.spark.ml.evaluation.ClusteringEvaluator\n",
    "import scalax.chart.api._\n",
    "import scala.collection.mutable.Map"
   ]
  },
  {
   "cell_type": "code",
   "execution_count": 2,
   "metadata": {},
   "outputs": [
    {
     "data": {
      "text/plain": [
       "country = US\n",
       "usDF = [video_id: string, trending_date: string ... 14 more fields]\n"
      ]
     },
     "metadata": {},
     "output_type": "display_data"
    },
    {
     "data": {
      "text/plain": [
       "[video_id: string, trending_date: string ... 14 more fields]"
      ]
     },
     "execution_count": 2,
     "metadata": {},
     "output_type": "execute_result"
    }
   ],
   "source": [
    "val country = \"US\"\n",
    "val usDF = spark.read.format(\"csv\").option(\"header\", \"true\")\n",
    "                .load(\"data/\" + country + \"videos_new.csv\")"
   ]
  },
  {
   "cell_type": "code",
   "execution_count": 3,
   "metadata": {},
   "outputs": [
    {
     "name": "stdout",
     "output_type": "stream",
     "text": [
      "root\n",
      " |-- video_id: string (nullable = true)\n",
      " |-- trending_date: string (nullable = true)\n",
      " |-- title: string (nullable = true)\n",
      " |-- channel_title: string (nullable = true)\n",
      " |-- category_id: string (nullable = true)\n",
      " |-- publish_time: string (nullable = true)\n",
      " |-- tags: string (nullable = true)\n",
      " |-- views: string (nullable = true)\n",
      " |-- likes: string (nullable = true)\n",
      " |-- dislikes: string (nullable = true)\n",
      " |-- comment_count: string (nullable = true)\n",
      " |-- thumbnail_link: string (nullable = true)\n",
      " |-- comments_disabled: string (nullable = true)\n",
      " |-- ratings_disabled: string (nullable = true)\n",
      " |-- video_error_or_removed: string (nullable = true)\n",
      " |-- description: string (nullable = true)\n",
      "\n"
     ]
    }
   ],
   "source": [
    "usDF.printSchema()"
   ]
  },
  {
   "cell_type": "code",
   "execution_count": 4,
   "metadata": {},
   "outputs": [
    {
     "name": "stdout",
     "output_type": "stream",
     "text": [
      "root\n",
      " |-- category_id: string (nullable = true)\n",
      " |-- comment_count: string (nullable = true)\n",
      " |-- dislikes: string (nullable = true)\n",
      " |-- views: string (nullable = true)\n",
      " |-- likes: string (nullable = true)\n",
      "\n",
      "+-----------+-------------+--------+-------+------+\n",
      "|category_id|comment_count|dislikes|  views| likes|\n",
      "+-----------+-------------+--------+-------+------+\n",
      "|       22.0|        15954|    2966| 748374| 57527|\n",
      "|       24.0|        12703|    6146|2418783| 97185|\n",
      "|       23.0|         8181|    5339|3191434|146033|\n",
      "|       24.0|         2146|     666| 343168| 10172|\n",
      "|       24.0|        17518|    1989|2095731|132235|\n",
      "+-----------+-------------+--------+-------+------+\n",
      "only showing top 5 rows\n",
      "\n"
     ]
    },
    {
     "data": {
      "text/plain": [
       "usDF1 = [category_id: string, comment_count: string ... 3 more fields]\n",
       "usDF2 = [category_id: double, comment_count: int ... 3 more fields]\n"
      ]
     },
     "metadata": {},
     "output_type": "display_data"
    },
    {
     "data": {
      "text/plain": [
       "[category_id: double, comment_count: int ... 3 more fields]"
      ]
     },
     "execution_count": 4,
     "metadata": {},
     "output_type": "execute_result"
    }
   ],
   "source": [
    "val usDF1 = usDF.select($\"category_id\",$\"comment_count\",\n",
    "                        $\"dislikes\",$\"views\",$\"likes\")\n",
    "                        .na.drop()\n",
    "\n",
    "\n",
    "usDF1.printSchema()\n",
    "\n",
    "val usDF2 = usDF1.withColumn(\"category_id\",col(\"category_id\").cast(DoubleType))\n",
    "    .withColumn(\"comment_count\",col(\"comment_count\").cast(IntegerType))\n",
    "    .withColumn(\"dislikes\",col(\"dislikes\").cast(IntegerType))\n",
    "    .withColumn(\"views\",col(\"views\").cast(IntegerType))\n",
    "    .withColumn(\"likes\",col(\"likes\").cast(IntegerType))\n",
    "usDF2.show(5)"
   ]
  },
  {
   "cell_type": "code",
   "execution_count": 5,
   "metadata": {},
   "outputs": [
    {
     "data": {
      "text/plain": [
       "48137"
      ]
     },
     "execution_count": 5,
     "metadata": {},
     "output_type": "execute_result"
    }
   ],
   "source": [
    "val numNan = usDF.count - usDF1.count\n"
   ]
  },
  {
   "cell_type": "code",
   "execution_count": 7,
   "metadata": {},
   "outputs": [
    {
     "name": "stdout",
     "output_type": "stream",
     "text": [
      "root\n",
      " |-- category_id: double (nullable = true)\n",
      " |-- comment_count: integer (nullable = true)\n",
      " |-- dislikes: integer (nullable = true)\n",
      " |-- views: integer (nullable = true)\n",
      " |-- likes: integer (nullable = true)\n",
      "\n"
     ]
    },
    {
     "data": {
      "text/plain": [
       "assembler = [category_id: double, comment_count: int ... 4 more fields]\n"
      ]
     },
     "metadata": {},
     "output_type": "display_data"
    },
    {
     "data": {
      "text/plain": [
       "[category_id: double, comment_count: int ... 4 more fields]"
      ]
     },
     "execution_count": 7,
     "metadata": {},
     "output_type": "execute_result"
    }
   ],
   "source": [
    "val assembler = new VectorAssembler()\n",
    "                .setInputCols(Array(\"comment_count\",\"dislikes\",\n",
    "                                    \"views\",\"category_id\",\"likes\"))\n",
    "                .setOutputCol(\"features\")\n",
    "                .transform(usDF2)\n",
    "usDF2.printSchema()"
   ]
  },
  {
   "cell_type": "code",
   "execution_count": 8,
   "metadata": {
    "scrolled": true
   },
   "outputs": [
    {
     "name": "stdout",
     "output_type": "stream",
     "text": [
      "+------+--------------------+\n",
      "| likes|            features|\n",
      "+------+--------------------+\n",
      "| 57527|[15954.0,2966.0,7...|\n",
      "| 97185|[12703.0,6146.0,2...|\n",
      "|146033|[8181.0,5339.0,31...|\n",
      "| 10172|[2146.0,666.0,343...|\n",
      "|132235|[17518.0,1989.0,2...|\n",
      "+------+--------------------+\n",
      "only showing top 5 rows\n",
      "\n"
     ]
    }
   ],
   "source": [
    "assembler.select($\"likes\",$\"features\").show(5)"
   ]
  },
  {
   "cell_type": "code",
   "execution_count": 9,
   "metadata": {},
   "outputs": [
    {
     "name": "stdout",
     "output_type": "stream",
     "text": [
      "+-----------+-------------+--------+-------+------+--------------------+--------------------+\n",
      "|category_id|comment_count|dislikes|  views| likes|            features|        normfeatures|\n",
      "+-----------+-------------+--------+-------+------+--------------------+--------------------+\n",
      "|       22.0|        15954|    2966| 748374| 57527|[15954.0,2966.0,7...|[0.02131320801961...|\n",
      "|       24.0|        12703|    6146|2418783| 97185|[12703.0,6146.0,2...|[0.00525172527371...|\n",
      "|       23.0|         8181|    5339|3191434|146033|[8181.0,5339.0,31...|[0.00256341245751...|\n",
      "|       24.0|         2146|     666| 343168| 10172|[2146.0,666.0,343...|[0.00625336276642...|\n",
      "|       24.0|        17518|    1989|2095731|132235|[17518.0,1989.0,2...|[0.00835860143342...|\n",
      "+-----------+-------------+--------+-------+------+--------------------+--------------------+\n",
      "only showing top 5 rows\n",
      "\n",
      "root\n",
      " |-- category_id: double (nullable = true)\n",
      " |-- comment_count: integer (nullable = true)\n",
      " |-- dislikes: integer (nullable = true)\n",
      " |-- views: integer (nullable = true)\n",
      " |-- likes: integer (nullable = true)\n",
      " |-- features: vector (nullable = true)\n",
      " |-- normfeatures: vector (nullable = true)\n",
      "\n"
     ]
    },
    {
     "data": {
      "text/plain": [
       "normalizer = [category_id: double, comment_count: int ... 5 more fields]\n"
      ]
     },
     "metadata": {},
     "output_type": "display_data"
    },
    {
     "data": {
      "text/plain": [
       "[category_id: double, comment_count: int ... 5 more fields]"
      ]
     },
     "execution_count": 9,
     "metadata": {},
     "output_type": "execute_result"
    }
   ],
   "source": [
    "val normalizer= new Normalizer()\n",
    "                .setInputCol(\"features\")\n",
    "                .setOutputCol(\"normfeatures\")\n",
    "                .setP(2.0)\n",
    "                .transform(assembler)\n",
    "normalizer.show(5)\n",
    "normalizer.printSchema()"
   ]
  },
  {
   "cell_type": "code",
   "execution_count": 10,
   "metadata": {},
   "outputs": [
    {
     "data": {
      "text/plain": [
       "trainingData = [category_id: double, comment_count: int ... 5 more fields]\n",
       "testData = [category_id: double, comment_count: int ... 5 more fields]\n"
      ]
     },
     "metadata": {},
     "output_type": "display_data"
    },
    {
     "data": {
      "text/plain": [
       "[category_id: double, comment_count: int ... 5 more fields]"
      ]
     },
     "execution_count": 10,
     "metadata": {},
     "output_type": "execute_result"
    }
   ],
   "source": [
    "val Array(trainingData,testData)= normalizer.randomSplit(Array(0.7,0.3))"
   ]
  },
  {
   "cell_type": "code",
   "execution_count": 44,
   "metadata": {},
   "outputs": [
    {
     "name": "stdout",
     "output_type": "stream",
     "text": [
      "Silhouette with squared euclidean distance = 2,0.9863755186210522\n",
      "Silhouette with squared euclidean distance = 3,0.9620062403947562\n",
      "Silhouette with squared euclidean distance = 4,0.9446297004458408\n",
      "Silhouette with squared euclidean distance = 5,0.9426128629091324\n",
      "Silhouette with squared euclidean distance = 6,0.9189003867808463\n",
      "Silhouette with squared euclidean distance = 7,0.8771548044477305\n",
      "Map(2 -> 0.9863755186210522, 5 -> 0.9426128629091324, 4 -> 0.9446297004458408, 7 -> 0.8771548044477305, 3 -> 0.9620062403947562, 6 -> 0.9189003867808463)\n"
     ]
    },
    {
     "data": {
      "text/plain": [
       "arr1 = Map(2 -> 0.9863755186210522, 5 -> 0.9426128629091324, 4 -> 0.9446297004458408, 7 -> 0.8771548044477305, 3 -> 0.9620062403947562, 6 -> 0.9189003867808463)\n"
      ]
     },
     "metadata": {},
     "output_type": "display_data"
    },
    {
     "data": {
      "text/plain": [
       "Map(2 -> 0.9863755186210522, 5 -> 0.9426128629091324, 4 -> 0.9446297004458408, 7 -> 0.8771548044477305, 3 -> 0.9620062403947562, 6 -> 0.9189003867808463)"
      ]
     },
     "execution_count": 44,
     "metadata": {},
     "output_type": "execute_result"
    }
   ],
   "source": [
    "val resultArr = scala.collection.mutable.Map[Int, Double]()\n",
    "for( a <- 2 to 100){\n",
    "    \n",
    "    val kmeans = new KMeans().setK(a).setSeed(1L)\n",
    "    val model = kmeans.fit(trainingData)\n",
    "// Make predictions\n",
    "    val predictions = model.transform(testData)\n",
    "// Evaluate clustering by computing Silhouette score\n",
    "    val evaluator = new ClusteringEvaluator()\n",
    "    val silhouette = evaluator.evaluate(predictions)\n",
    "    println(s\"Silhouette with squared euclidean distance = $a,$silhouette\")\n",
    "    \n",
    "    \n",
    "    resultArr(a) = silhouette\n",
    "    \n",
    "}\n",
    "println(resultArr)"
   ]
  },
  {
   "cell_type": "code",
   "execution_count": null,
   "metadata": {},
   "outputs": [],
   "source": [
    "// Save Array to file\n",
    "val resultDF = spark.sparkContext\n",
    "        .parallelize(resultArr.toSeq.sortBy(_._1))\n",
    "        .toDF(\"num_clusters\", \"silhouette\")\n",
    "\n",
    "\n",
    "resultDF.repartition(1)\n",
    "        .write\n",
    "        .format(\"csv\")\n",
    "        .option(\"header\", \"true\")\n",
    "        .save(\"result_clustering\")"
   ]
  }
 ],
 "metadata": {
  "kernelspec": {
   "display_name": "Apache Toree - Scala",
   "language": "scala",
   "name": "apache_toree_scala"
  },
  "language_info": {
   "codemirror_mode": "text/x-scala",
   "file_extension": ".scala",
   "mimetype": "text/x-scala",
   "name": "scala",
   "pygments_lexer": "scala",
   "version": "2.11.12"
  }
 },
 "nbformat": 4,
 "nbformat_minor": 2
}
