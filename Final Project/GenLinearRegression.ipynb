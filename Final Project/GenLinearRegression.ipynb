{
 "cells": [
  {
   "cell_type": "code",
   "execution_count": 14,
   "metadata": {},
   "outputs": [],
   "source": [
    "import org.apache.spark.sql.{DataFrame, Dataset, Row, SparkSession}\n",
    "import org.apache.spark.sql.functions._\n",
    "import scala.util.matching\n",
    "import org.apache.spark.rdd.RDD\n",
    "import org.apache.spark.sql.types._\n",
    "\n",
    "import org.apache.spark.ml.evaluation.RegressionEvaluator\n",
    "import org.apache.spark.ml.regression.LinearRegression\n",
    "import org.apache.spark.ml.tuning.{ParamGridBuilder, TrainValidationSplit}\n",
    "import org.apache.spark.ml.feature.VectorAssembler\n",
    "import org.apache.spark.mllib.linalg.Vectors\n",
    "import org.apache.spark.ml.feature.Normalizer\n",
    "import org.apache.spark.ml.regression.GeneralizedLinearRegression"
   ]
  },
  {
   "cell_type": "code",
   "execution_count": 15,
   "metadata": {},
   "outputs": [
    {
     "data": {
      "text/plain": [
       "country = US\n",
       "usDF = [video_id: string, trending_date: string ... 14 more fields]\n"
      ]
     },
     "metadata": {},
     "output_type": "display_data"
    },
    {
     "data": {
      "text/plain": [
       "[video_id: string, trending_date: string ... 14 more fields]"
      ]
     },
     "execution_count": 15,
     "metadata": {},
     "output_type": "execute_result"
    }
   ],
   "source": [
    "val country = \"US\"\n",
    "val usDF = spark.read.format(\"csv\").option(\"header\", \"true\")\n",
    "                .load(\"data/\" + country + \"videos_new.csv\")"
   ]
  },
  {
   "cell_type": "code",
   "execution_count": 16,
   "metadata": {},
   "outputs": [
    {
     "name": "stdout",
     "output_type": "stream",
     "text": [
      "root\n",
      " |-- video_id: string (nullable = true)\n",
      " |-- trending_date: string (nullable = true)\n",
      " |-- title: string (nullable = true)\n",
      " |-- channel_title: string (nullable = true)\n",
      " |-- category_id: string (nullable = true)\n",
      " |-- publish_time: string (nullable = true)\n",
      " |-- tags: string (nullable = true)\n",
      " |-- views: string (nullable = true)\n",
      " |-- likes: string (nullable = true)\n",
      " |-- dislikes: string (nullable = true)\n",
      " |-- comment_count: string (nullable = true)\n",
      " |-- thumbnail_link: string (nullable = true)\n",
      " |-- comments_disabled: string (nullable = true)\n",
      " |-- ratings_disabled: string (nullable = true)\n",
      " |-- video_error_or_removed: string (nullable = true)\n",
      " |-- description: string (nullable = true)\n",
      "\n"
     ]
    }
   ],
   "source": [
    "usDF.printSchema()"
   ]
  },
  {
   "cell_type": "code",
   "execution_count": 17,
   "metadata": {},
   "outputs": [
    {
     "name": "stdout",
     "output_type": "stream",
     "text": [
      "root\n",
      " |-- category_id: string (nullable = true)\n",
      " |-- comment_count: string (nullable = true)\n",
      " |-- dislikes: string (nullable = true)\n",
      " |-- views: string (nullable = true)\n",
      " |-- likes: string (nullable = true)\n",
      "\n",
      "+-----------+-------------+--------+-------+------+\n",
      "|category_id|comment_count|dislikes|  views| likes|\n",
      "+-----------+-------------+--------+-------+------+\n",
      "|       22.0|        15954|    2966| 748374| 57527|\n",
      "|       24.0|        12703|    6146|2418783| 97185|\n",
      "|       23.0|         8181|    5339|3191434|146033|\n",
      "|       24.0|         2146|     666| 343168| 10172|\n",
      "|       24.0|        17518|    1989|2095731|132235|\n",
      "+-----------+-------------+--------+-------+------+\n",
      "only showing top 5 rows\n",
      "\n"
     ]
    },
    {
     "data": {
      "text/plain": [
       "usDF1 = [category_id: string, comment_count: string ... 3 more fields]\n",
       "usDF2 = [category_id: double, comment_count: int ... 3 more fields]\n"
      ]
     },
     "metadata": {},
     "output_type": "display_data"
    },
    {
     "data": {
      "text/plain": [
       "[category_id: double, comment_count: int ... 3 more fields]"
      ]
     },
     "execution_count": 17,
     "metadata": {},
     "output_type": "execute_result"
    }
   ],
   "source": [
    "val usDF1 = usDF.select($\"category_id\"\n",
    "                        ,$\"comment_count\",$\"dislikes\",$\"views\",$\"likes\")\n",
    "                        .na.drop()\n",
    "\n",
    "\n",
    "usDF1.printSchema()\n",
    "\n",
    "val usDF2 = usDF1.withColumn(\"category_id\",col(\"category_id\").cast(DoubleType))\n",
    "    .withColumn(\"comment_count\",col(\"comment_count\").cast(IntegerType))\n",
    "    .withColumn(\"dislikes\",col(\"dislikes\").cast(IntegerType))\n",
    "    .withColumn(\"views\",col(\"views\").cast(IntegerType))\n",
    "    .withColumn(\"likes\",col(\"likes\").cast(IntegerType))\n",
    "usDF2.show(5)"
   ]
  },
  {
   "cell_type": "code",
   "execution_count": 18,
   "metadata": {},
   "outputs": [
    {
     "data": {
      "text/plain": [
       "numNan = 7188\n"
      ]
     },
     "metadata": {},
     "output_type": "display_data"
    },
    {
     "data": {
      "text/plain": [
       "7188"
      ]
     },
     "execution_count": 18,
     "metadata": {},
     "output_type": "execute_result"
    }
   ],
   "source": [
    "val numNan = usDF.count - usDF1.count"
   ]
  },
  {
   "cell_type": "code",
   "execution_count": 19,
   "metadata": {},
   "outputs": [
    {
     "name": "stdout",
     "output_type": "stream",
     "text": [
      "root\n",
      " |-- category_id: double (nullable = true)\n",
      " |-- comment_count: integer (nullable = true)\n",
      " |-- dislikes: integer (nullable = true)\n",
      " |-- views: integer (nullable = true)\n",
      " |-- likes: integer (nullable = true)\n",
      "\n"
     ]
    },
    {
     "data": {
      "text/plain": [
       "assembler = [category_id: double, comment_count: int ... 4 more fields]\n"
      ]
     },
     "metadata": {},
     "output_type": "display_data"
    },
    {
     "data": {
      "text/plain": [
       "[category_id: double, comment_count: int ... 4 more fields]"
      ]
     },
     "execution_count": 19,
     "metadata": {},
     "output_type": "execute_result"
    }
   ],
   "source": [
    "val assembler = new VectorAssembler()\n",
    "                .setInputCols(Array(\"comment_count\",\n",
    "                                    \"dislikes\",\"views\",\n",
    "                                    \"category_id\"))\n",
    "                .setOutputCol(\"features\")\n",
    "                .transform(usDF2)\n",
    "usDF2.printSchema()"
   ]
  },
  {
   "cell_type": "code",
   "execution_count": 20,
   "metadata": {
    "scrolled": true
   },
   "outputs": [
    {
     "name": "stdout",
     "output_type": "stream",
     "text": [
      "+------+--------------------+\n",
      "| likes|            features|\n",
      "+------+--------------------+\n",
      "| 57527|[15954.0,2966.0,7...|\n",
      "| 97185|[12703.0,6146.0,2...|\n",
      "|146033|[8181.0,5339.0,31...|\n",
      "| 10172|[2146.0,666.0,343...|\n",
      "|132235|[17518.0,1989.0,2...|\n",
      "+------+--------------------+\n",
      "only showing top 5 rows\n",
      "\n"
     ]
    }
   ],
   "source": [
    "assembler.select($\"likes\",$\"features\").show(5)"
   ]
  },
  {
   "cell_type": "code",
   "execution_count": 21,
   "metadata": {},
   "outputs": [
    {
     "name": "stdout",
     "output_type": "stream",
     "text": [
      "+-----------+-------------+--------+-------+------+--------------------+--------------------+\n",
      "|category_id|comment_count|dislikes|  views| likes|            features|        normfeatures|\n",
      "+-----------+-------------+--------+-------+------+--------------------+--------------------+\n",
      "|       22.0|        15954|    2966| 748374| 57527|[15954.0,2966.0,7...|[0.02131320801961...|\n",
      "|       24.0|        12703|    6146|2418783| 97185|[12703.0,6146.0,2...|[0.00525172527371...|\n",
      "|       23.0|         8181|    5339|3191434|146033|[8181.0,5339.0,31...|[0.00256341245751...|\n",
      "|       24.0|         2146|     666| 343168| 10172|[2146.0,666.0,343...|[0.00625336276642...|\n",
      "|       24.0|        17518|    1989|2095731|132235|[17518.0,1989.0,2...|[0.00835860143342...|\n",
      "+-----------+-------------+--------+-------+------+--------------------+--------------------+\n",
      "only showing top 5 rows\n",
      "\n",
      "root\n",
      " |-- category_id: double (nullable = true)\n",
      " |-- comment_count: integer (nullable = true)\n",
      " |-- dislikes: integer (nullable = true)\n",
      " |-- views: integer (nullable = true)\n",
      " |-- likes: integer (nullable = true)\n",
      " |-- features: vector (nullable = true)\n",
      " |-- normfeatures: vector (nullable = true)\n",
      "\n"
     ]
    },
    {
     "data": {
      "text/plain": [
       "normalizer = [category_id: double, comment_count: int ... 5 more fields]\n"
      ]
     },
     "metadata": {},
     "output_type": "display_data"
    },
    {
     "data": {
      "text/plain": [
       "[category_id: double, comment_count: int ... 5 more fields]"
      ]
     },
     "execution_count": 21,
     "metadata": {},
     "output_type": "execute_result"
    }
   ],
   "source": [
    "val normalizer= new Normalizer()\n",
    "                .setInputCol(\"features\")\n",
    "                .setOutputCol(\"normfeatures\")\n",
    "                .setP(2.0)\n",
    "                .transform(assembler)\n",
    "normalizer.show(5)\n",
    "normalizer.printSchema()"
   ]
  },
  {
   "cell_type": "code",
   "execution_count": 22,
   "metadata": {},
   "outputs": [
    {
     "data": {
      "text/plain": [
       "trainingData = [category_id: double, comment_count: int ... 5 more fields]\n",
       "testData = [category_id: double, comment_count: int ... 5 more fields]\n"
      ]
     },
     "metadata": {},
     "output_type": "display_data"
    },
    {
     "data": {
      "text/plain": [
       "[category_id: double, comment_count: int ... 5 more fields]"
      ]
     },
     "execution_count": 22,
     "metadata": {},
     "output_type": "execute_result"
    }
   ],
   "source": [
    "val Array(trainingData,testData)= normalizer.randomSplit(Array(0.7,0.3))"
   ]
  },
  {
   "cell_type": "code",
   "execution_count": 23,
   "metadata": {},
   "outputs": [
    {
     "data": {
      "text/plain": [
       "glr = glm_560884eead9d\n"
      ]
     },
     "metadata": {},
     "output_type": "display_data"
    },
    {
     "data": {
      "text/plain": [
       "glm_560884eead9d"
      ]
     },
     "execution_count": 23,
     "metadata": {},
     "output_type": "execute_result"
    }
   ],
   "source": [
    "val glr = new GeneralizedLinearRegression()\n",
    "  .setLabelCol(\"likes\")\n",
    "  .setFeaturesCol(\"normfeatures\")\n",
    "  .setFamily(\"gaussian\")\n",
    "  .setLink(\"identity\")\n",
    "  .setMaxIter(10)\n",
    "  .setRegParam(0.3)"
   ]
  },
  {
   "cell_type": "code",
   "execution_count": 24,
   "metadata": {},
   "outputs": [
    {
     "data": {
      "text/plain": [
       "glrmodel = glm_560884eead9d\n"
      ]
     },
     "metadata": {},
     "output_type": "display_data"
    },
    {
     "data": {
      "text/plain": [
       "glm_560884eead9d"
      ]
     },
     "execution_count": 24,
     "metadata": {},
     "output_type": "execute_result"
    }
   ],
   "source": [
    "val glrmodel = glr.fit(trainingData)"
   ]
  },
  {
   "cell_type": "code",
   "execution_count": 28,
   "metadata": {},
   "outputs": [
    {
     "name": "stdout",
     "output_type": "stream",
     "text": [
      "+-----+------------------+\n",
      "|likes|        prediction|\n",
      "+-----+------------------+\n",
      "|    1| 51209.90821599215|\n",
      "|    0| 59908.34628306329|\n",
      "|    0|60282.643747895956|\n",
      "|    0| 60288.02198352665|\n",
      "|    0| 60436.16456446797|\n",
      "|    0| 60438.50723823905|\n",
      "|   29| 60268.67409835011|\n",
      "|   29|60269.284718610346|\n",
      "|  140| 60132.20699682832|\n",
      "|95002| 60810.18053223193|\n",
      "| 6801| 62676.37337902933|\n",
      "| 6794| 62673.56715861708|\n",
      "| 6876| 62696.35061057657|\n",
      "|   29| 60211.37312927097|\n",
      "|   30| 60294.54682149738|\n",
      "|   39|60228.867586776614|\n",
      "|    9| 60356.42896413803|\n",
      "|   43| 60543.79755541682|\n",
      "|  144| 60712.37480414659|\n",
      "|   26| 61173.60980498046|\n",
      "+-----+------------------+\n",
      "only showing top 20 rows\n",
      "\n"
     ]
    },
    {
     "data": {
      "text/plain": [
       "resultDF = [likes: int, prediction: double]\n"
      ]
     },
     "metadata": {},
     "output_type": "display_data"
    },
    {
     "data": {
      "text/plain": [
       "[likes: int, prediction: double]"
      ]
     },
     "execution_count": 28,
     "metadata": {},
     "output_type": "execute_result"
    }
   ],
   "source": [
    "val resultDF = glrmodel.transform(testData).select(\"likes\", \"prediction\")\n",
    "resultDF.show(20)"
   ]
  },
  {
   "cell_type": "code",
   "execution_count": 36,
   "metadata": {},
   "outputs": [
    {
     "name": "stdout",
     "output_type": "stream",
     "text": [
      "Coefficient Standard Errors: 306292.5183806047,519668.787599523,8969921.891596122,1045526.5411107829,8970892.539084295\n",
      "T Values: 12.763149564738242,1.1389183588298526,4.116947642421404,-9.160939555576952,-4.109753195878782\n",
      "P Values: 0.0,0.2547467562649113,3.8500099705851554E-5,0.0,3.971867321062028E-5\n",
      "Dispersion: 5.506316425530897E10\n",
      "+-------------------+\n",
      "|  devianceResiduals|\n",
      "+-------------------+\n",
      "|-50365.791978009045|\n",
      "| -60264.48481563479|\n",
      "| -60279.44072916359|\n",
      "| -60285.13972388208|\n",
      "|-60286.897588029504|\n",
      "| -60429.06959973276|\n",
      "| -60432.91057141125|\n",
      "| -59982.73899926245|\n",
      "|-61043.037735275924|\n",
      "| -60507.27250473946|\n",
      "| -60468.49128390849|\n",
      "| -60452.75995839387|\n",
      "| 27074.853958405554|\n",
      "| 30791.281584747136|\n",
      "| -56043.44305549562|\n",
      "|-55943.637052856386|\n",
      "| -55882.49511617422|\n",
      "| -55876.63550978899|\n",
      "| -55843.21473566443|\n",
      "| -55822.09730801731|\n",
      "+-------------------+\n",
      "only showing top 20 rows\n",
      "\n",
      "+-------+-----------------+-------------------+\n",
      "|summary|            likes|         prediction|\n",
      "+-------+-----------------+-------------------+\n",
      "|  count|            12372|              12372|\n",
      "|   mean| 71936.3570966699|  75479.60289135868|\n",
      "| stddev|212258.9993729752|  22248.56010597625|\n",
      "|    min|                0|-394887.41448028386|\n",
      "|    max|          4934188|  267221.0200894028|\n",
      "+-------+-----------------+-------------------+\n",
      "\n"
     ]
    },
    {
     "data": {
      "text/plain": [
       "trainingSummary = \n"
      ]
     },
     "metadata": {},
     "output_type": "display_data"
    },
    {
     "data": {
      "text/plain": [
       "Coefficients:\n",
       "       Feature       Estimate    Std Error T Value P Value\n",
       "   (Intercept) -36868154.2824 8970892.5391 -4.1098  0.0000\n",
       "normfeatures_0   3909257.2227  306292.5184 12.7631  0.0000\n",
       "normfeatures_1    591860.3227  519668.7876  1.1389  0.2547\n",
       "normfeatures_2  36928698.7843 8969921.8916  4.1169  0.0000\n",
       "normfeatures_3  -9578005.4469 1045526.5411 -9.1609  0.0000\n",
       "(Dispersion parameter for gaussian family taken to be 55063164255.3090)\n",
       "    Null deviance: 1587746360152314.5000 on 28572 degrees of freedom\n",
       "Residual deviance: 1573264729102687.8000 on 28572 degrees of freedom\n",
       "AIC: 787864.1409\n"
      ]
     },
     "metadata": {},
     "output_type": "display_data"
    }
   ],
   "source": [
    "val trainingSummary = glrmodel.summary\n",
    "println(s\"Coefficient Standard Errors: ${trainingSummary.coefficientStandardErrors.mkString(\",\")}\")\n",
    "println(s\"T Values: ${trainingSummary.tValues.mkString(\",\")}\")\n",
    "println(s\"P Values: ${trainingSummary.pValues.mkString(\",\")}\")\n",
    "println(s\"Dispersion: ${trainingSummary.dispersion}\")\n",
    "\n",
    "trainingSummary.residuals.show()\n",
    "resultDF.describe().show"
   ]
  },
  {
   "cell_type": "code",
   "execution_count": null,
   "metadata": {},
   "outputs": [],
   "source": []
  }
 ],
 "metadata": {
  "kernelspec": {
   "display_name": "Apache Toree - Scala",
   "language": "scala",
   "name": "apache_toree_scala"
  },
  "language_info": {
   "codemirror_mode": "text/x-scala",
   "file_extension": ".scala",
   "mimetype": "text/x-scala",
   "name": "scala",
   "pygments_lexer": "scala",
   "version": "2.11.12"
  }
 },
 "nbformat": 4,
 "nbformat_minor": 2
}
